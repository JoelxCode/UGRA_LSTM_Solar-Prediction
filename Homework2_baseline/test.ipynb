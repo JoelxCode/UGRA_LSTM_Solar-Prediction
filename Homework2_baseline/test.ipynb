{
 "cells": [
  {
   "cell_type": "code",
   "execution_count": 1,
   "id": "6442b833",
   "metadata": {},
   "outputs": [],
   "source": [
    "# Import Libraries\n",
    "import numpy as np\n",
    "import pandas as pd\n",
    "import tensorflow as tf\n",
    "import matplotlib.pyplot as plt\n",
    "from sklearn.preprocessing import MinMaxScaler\n",
    "from sklearn.metrics import mean_absolute_error\n",
    "from keras.models import Sequential\n",
    "from keras.layers import Dense, LSTM\n",
    "from keras.optimizers import Adam\n",
    "import os"
   ]
  },
  {
   "cell_type": "code",
   "execution_count": 2,
   "id": "4111c236",
   "metadata": {},
   "outputs": [
    {
     "name": "stdout",
     "output_type": "stream",
     "text": [
      "c:\\Users\\nnaji\\OneDrive\\Documents\\GitHub\\UGRA_LSTM_Solar-Prediction\\Homework2_baseline\n"
     ]
    }
   ],
   "source": [
    "#specify the learning rate\n",
    "learning_rate = 0.0005\n",
    "\n",
    "curr_dir = os.getcwd()\n",
    "print(curr_dir)\n",
    "\n",
    "\n",
    "# Load Dataset\n",
    "df = pd.read_csv('MedData.csv')"
   ]
  },
  {
   "cell_type": "code",
   "execution_count": 3,
   "id": "10e84e53",
   "metadata": {},
   "outputs": [],
   "source": [
    "# Separate Prediction Variable\n",
    "solar_Xdata = df.copy()\n",
    "solar_ydata = solar_Xdata.pop(\"POWER\")\n",
    "solar_Xdata = df.copy()\n",
    "\n",
    "# Reshape Data\n",
    "solar_Xdata = solar_Xdata.values.reshape(-1,solar_Xdata.shape[1])\n",
    "solar_ydata = solar_ydata.values.reshape(-1,1)"
   ]
  },
  {
   "cell_type": "code",
   "execution_count": 4,
   "id": "0e1a8925",
   "metadata": {},
   "outputs": [],
   "source": [
    "# Normalize Data\n",
    "scaler = MinMaxScaler()\n",
    "solar_XdataN = scaler.fit_transform(solar_Xdata)\n",
    "solar_ydataN = scaler.fit_transform(solar_ydata)"
   ]
  },
  {
   "cell_type": "code",
   "execution_count": 5,
   "id": "e352c390",
   "metadata": {},
   "outputs": [],
   "source": [
    "# Create Sequences\n",
    "X, y = [], []\n",
    "for i in range(24, len(solar_ydataN)):\n",
    "    X.append(solar_XdataN[i-24:i,0]) #This is the selected feautres that are going to be used. \n",
    "    y.append(solar_ydataN[i, 0])\n",
    "X, y = np.array(X), np.array(y)\n",
    "\n",
    "# Split data into training and testing sets\n",
    "train_size = int(0.8 * len(y))\n",
    "X_train, X_test = X[:train_size], X[train_size:]\n",
    "y_train, y_test = y[:train_size], y[train_size:]\n",
    "\n",
    "# Reshape for LSTM layer\n",
    "X_train = np.reshape(X_train, (X_train.shape[0], X_train.shape[1],1))\n",
    "X_test = np.reshape(X_test, (X_test.shape[0], X_test.shape[1],1))\n"
   ]
  },
  {
   "cell_type": "code",
   "execution_count": 6,
   "id": "96bffed6",
   "metadata": {},
   "outputs": [
    {
     "name": "stderr",
     "output_type": "stream",
     "text": [
      "WARNING:absl:`lr` is deprecated in Keras optimizer, please use `learning_rate` or use the legacy optimizer, e.g.,tf.keras.optimizers.legacy.Adam.\n"
     ]
    },
    {
     "name": "stdout",
     "output_type": "stream",
     "text": [
      "Epoch 1/50\n",
      "438/438 [==============================] - 13s 19ms/step - loss: 0.1774\n",
      "Epoch 2/50\n",
      "438/438 [==============================] - 8s 19ms/step - loss: 0.1312\n",
      "Epoch 3/50\n",
      "438/438 [==============================] - 11s 24ms/step - loss: 0.1134\n",
      "Epoch 4/50\n",
      "438/438 [==============================] - 7s 16ms/step - loss: 0.0949\n",
      "Epoch 5/50\n",
      "438/438 [==============================] - 7s 16ms/step - loss: 0.0865\n",
      "Epoch 6/50\n",
      "438/438 [==============================] - 7s 17ms/step - loss: 0.0827\n",
      "Epoch 7/50\n",
      "438/438 [==============================] - 8s 18ms/step - loss: 0.0796\n",
      "Epoch 8/50\n",
      "438/438 [==============================] - 7s 17ms/step - loss: 0.0764\n",
      "Epoch 9/50\n",
      "438/438 [==============================] - 7s 17ms/step - loss: 0.0743\n",
      "Epoch 10/50\n",
      "438/438 [==============================] - 7s 17ms/step - loss: 0.0724\n",
      "Epoch 11/50\n",
      "438/438 [==============================] - 8s 17ms/step - loss: 0.0712\n",
      "Epoch 12/50\n",
      "438/438 [==============================] - 8s 17ms/step - loss: 0.0686\n",
      "Epoch 13/50\n",
      "438/438 [==============================] - 8s 17ms/step - loss: 0.0688\n",
      "Epoch 14/50\n",
      "438/438 [==============================] - 8s 19ms/step - loss: 0.0680\n",
      "Epoch 15/50\n",
      "438/438 [==============================] - 7s 17ms/step - loss: 0.0679\n",
      "Epoch 16/50\n",
      "438/438 [==============================] - 7s 17ms/step - loss: 0.0675\n",
      "Epoch 17/50\n",
      "438/438 [==============================] - 8s 19ms/step - loss: 0.0664\n",
      "Epoch 18/50\n",
      "438/438 [==============================] - 8s 18ms/step - loss: 0.0657\n",
      "Epoch 19/50\n",
      "438/438 [==============================] - 8s 18ms/step - loss: 0.0659\n",
      "Epoch 20/50\n",
      "438/438 [==============================] - 9s 20ms/step - loss: 0.0657\n",
      "Epoch 21/50\n",
      "438/438 [==============================] - 9s 20ms/step - loss: 0.0649\n",
      "Epoch 22/50\n",
      "438/438 [==============================] - 8s 19ms/step - loss: 0.0642\n",
      "Epoch 23/50\n",
      "438/438 [==============================] - 8s 18ms/step - loss: 0.0640\n",
      "Epoch 24/50\n",
      "438/438 [==============================] - 8s 18ms/step - loss: 0.0638\n",
      "Epoch 25/50\n",
      "438/438 [==============================] - 9s 20ms/step - loss: 0.0632\n",
      "Epoch 26/50\n",
      "438/438 [==============================] - 9s 20ms/step - loss: 0.0628\n",
      "Epoch 27/50\n",
      "438/438 [==============================] - 9s 21ms/step - loss: 0.0628\n",
      "Epoch 28/50\n",
      "438/438 [==============================] - 9s 21ms/step - loss: 0.0625\n",
      "Epoch 29/50\n",
      "438/438 [==============================] - 9s 20ms/step - loss: 0.0623\n",
      "Epoch 30/50\n",
      "438/438 [==============================] - 9s 20ms/step - loss: 0.0617\n",
      "Epoch 31/50\n",
      "438/438 [==============================] - 9s 21ms/step - loss: 0.0621\n",
      "Epoch 32/50\n",
      "438/438 [==============================] - 8s 18ms/step - loss: 0.0610\n",
      "Epoch 33/50\n",
      "438/438 [==============================] - 8s 18ms/step - loss: 0.0604\n",
      "Epoch 34/50\n",
      "438/438 [==============================] - 8s 18ms/step - loss: 0.0604\n",
      "Epoch 35/50\n",
      "438/438 [==============================] - 8s 18ms/step - loss: 0.0606\n",
      "Epoch 36/50\n",
      "438/438 [==============================] - 8s 17ms/step - loss: 0.0599\n",
      "Epoch 37/50\n",
      "438/438 [==============================] - 8s 17ms/step - loss: 0.0599\n",
      "Epoch 38/50\n",
      "438/438 [==============================] - 8s 18ms/step - loss: 0.0598\n",
      "Epoch 39/50\n",
      "438/438 [==============================] - 9s 21ms/step - loss: 0.0590\n",
      "Epoch 40/50\n",
      "438/438 [==============================] - 8s 18ms/step - loss: 0.0596\n",
      "Epoch 41/50\n",
      "438/438 [==============================] - 9s 21ms/step - loss: 0.0586\n",
      "Epoch 42/50\n",
      "438/438 [==============================] - 9s 21ms/step - loss: 0.0585\n",
      "Epoch 43/50\n",
      "438/438 [==============================] - 11s 26ms/step - loss: 0.0586\n",
      "Epoch 44/50\n",
      "438/438 [==============================] - 11s 26ms/step - loss: 0.0583\n",
      "Epoch 45/50\n",
      "438/438 [==============================] - 9s 21ms/step - loss: 0.0576\n",
      "Epoch 46/50\n",
      "438/438 [==============================] - 8s 18ms/step - loss: 0.0576\n",
      "Epoch 47/50\n",
      "438/438 [==============================] - 9s 20ms/step - loss: 0.0572\n",
      "Epoch 48/50\n",
      "438/438 [==============================] - 8s 18ms/step - loss: 0.0574\n",
      "Epoch 49/50\n",
      "438/438 [==============================] - 9s 20ms/step - loss: 0.0573\n",
      "Epoch 50/50\n",
      "438/438 [==============================] - 8s 18ms/step - loss: 0.0572\n"
     ]
    },
    {
     "data": {
      "text/plain": [
       "<keras.src.callbacks.History at 0x2092cddf130>"
      ]
     },
     "execution_count": 6,
     "metadata": {},
     "output_type": "execute_result"
    }
   ],
   "source": [
    "# Build LSTM Model\n",
    "solar_model = Sequential()\n",
    "solar_model.add(LSTM(units = 50, return_sequences = True, input_shape = (X_train.shape[1],1)))\n",
    "solar_model.add(LSTM(units = 50))\n",
    "solar_model.add(Dense(units=1))\n",
    "\n",
    "# Create Model\n",
    "# set Epoch number\n",
    "setEpoch = 50\n",
    "\n",
    "# create the optimizer with the desired learning rate\n",
    "adam_optimizer = Adam(lr = learning_rate)\n",
    "solar_model.compile(optimizer=adam_optimizer, loss='mean_absolute_error')\n",
    "solar_model.fit(X_train, y_train, epochs = setEpoch, batch_size = 32)"
   ]
  },
  {
   "cell_type": "code",
   "execution_count": 7,
   "id": "8814c6b4",
   "metadata": {},
   "outputs": [
    {
     "name": "stdout",
     "output_type": "stream",
     "text": [
      "110/110 [==============================] - 2s 6ms/step\n"
     ]
    },
    {
     "data": {
      "text/plain": [
       "Text(0.02, 0.5, 'DC Power [MW]')"
      ]
     },
     "execution_count": 7,
     "metadata": {},
     "output_type": "execute_result"
    },
    {
     "data": {
      "image/png": "[encoded data removed]",
      "text/plain": [
       "<Figure size 640x480 with 1 Axes>"
      ]
     },
     "metadata": {},
     "output_type": "display_data"
    }
   ],
   "source": [
    "# Run Prediction\n",
    "y_pred = solar_model.predict(X_test)\n",
    "y_pred_orig = scaler.inverse_transform(y_pred)\n",
    "y_test_orig = scaler.inverse_transform(y_test.reshape(-1,1))\n",
    "\n",
    "# Display / Graph\n",
    "# Figure labels\n",
    "fig, axs = plt.subplots()\n",
    "fig.supxlabel(\"Time [3 days]\")\n",
    "fig.supylabel(\"DC Power [MW]\")"
   ]
  },
  {
   "cell_type": "code",
   "execution_count": 8,
   "id": "e9579965",
   "metadata": {},
   "outputs": [
    {
     "data": {
      "text/plain": [
       "<Figure size 640x480 with 0 Axes>"
      ]
     },
     "metadata": {},
     "output_type": "display_data"
    }
   ],
   "source": [
    "# Evaluate Error\n",
    "mae = mean_absolute_error(y_test_orig, y_pred_orig)\n",
    "\n",
    "# Display\n",
    "axs.plot(y_test_orig[0:150])\n",
    "axs.plot(y_pred_orig[0:150])\n",
    "\n",
    "# Title Graph with Epochs and Error\n",
    "title = \"Train From \" + str(solar_Xdata.shape[1]) + \" Inputs\\n\" + \"Epochs: \" + str(setEpoch) + \". Avg MAE Error: \" + str(f\"{mae:.2f}\")\n",
    "fig.suptitle(title)\n",
    "\n",
    "# Save Graph as PNG\n",
    "filename = \"Inputs_\" + str(solar_Xdata.shape[1]) + \"_Epochs_\" + str(setEpoch)\n",
    "filepath = 'Images/'\n",
    "plt.savefig(curr_dir + \"\\\\\" +filename)\n",
    "plt.show()\n"
   ]
  }
 ],
 "metadata": {
  "kernelspec": {
   "display_name": "Python 3",
   "language": "python",
   "name": "python3"
  },
  "language_info": {
   "codemirror_mode": {
    "name": "ipython",
    "version": 3
   },
   "file_extension": ".py",
   "mimetype": "text/x-python",
   "name": "python",
   "nbconvert_exporter": "python",
   "pygments_lexer": "ipython3",
   "version": "3.8.10"
  }
 },
 "nbformat": 4,
 "nbformat_minor": 5
}
