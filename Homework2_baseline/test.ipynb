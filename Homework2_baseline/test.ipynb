{
 "cells": [
  {
   "cell_type": "code",
   "execution_count": null,
   "id": "6442b833",
   "metadata": {},
   "outputs": [],
   "source": [
    "# Import Libraries\n",
    "import numpy as np\n",
    "import pandas as pd\n",
    "import tensorflow as tf\n",
    "import matplotlib.pyplot as plt\n",
    "\n",
    "from sklearn.preprocessing import MinMaxScaler\n",
    "from sklearn.metrics import mean_absolute_error\n",
    "from keras.models import Sequential\n",
    "from keras.layers import Dense, LSTM\n",
    "from keras.optimizers import Adam\n",
    "import os\n",
    "import sys\n",
    "!{sys.executable} -m pip install seaborn"
   ]
  },
  {
   "cell_type": "code",
   "execution_count": null,
   "id": "4111c236",
   "metadata": {},
   "outputs": [],
   "source": [
    "#specify the learning rate\n",
    "learning_rate = 0.0005\n",
    "#The learning rate has to do with the \n",
    "curr_dir = os.getcwd()\n",
    "print(curr_dir)\n",
    "\n",
    "\n",
    "# Load Dataset\n",
    "df = pd.read_csv('BigData.csv')\n",
    "\n",
    "#This portion of the code specifies the learning rate. \n"
   ]
  },
  {
   "cell_type": "code",
   "execution_count": null,
   "id": "62bfe295",
   "metadata": {},
   "outputs": [],
   "source": [
    "#Time Series Line Plot\n",
    "df.plot(subplots=True, figsize=(12, 8), title=\"Feature Time Series\")\n",
    "plt.tight_layout()\n",
    "plt.show()\n",
    "\n",
    "#Correlation Heatmap\n",
    "import seaborn as sns\n",
    "\n",
    "plt.figure(figsize=(8,6))\n",
    "sns.heatmap(df.corr(), annot=True, fmt=\".2f\", cmap='coolwarm')\n",
    "plt.title(\"Feature Correlation Heatmap\")\n",
    "plt.show()\n",
    "\n",
    "#Boxplot for Identifying Outliers\n",
    "for col in df.columns:\n",
    "    plt.figure(figsize=(6, 3))\n",
    "    sns.boxplot(x=df[col])\n",
    "    plt.title(f\"Boxplot of {col}\")\n",
    "    plt.show()\n",
    "#At this point, outliers in the data are checked for. The data is completely free of outliers and does not need to be extravagantly normalized. We are\n",
    "#clear to utilize the MinMaxScalar"
   ]
  },
  {
   "cell_type": "code",
   "execution_count": null,
   "id": "68401622",
   "metadata": {},
   "outputs": [],
   "source": [
    "#plotted the features to make sure there are not missing data points. \n",
    "import pandas as pd\n",
    "import matplotlib.pyplot as plt\n",
    "import matplotlib.cm as cm\n",
    "import numpy as np\n",
    "\n",
    "# Load your dataset\n",
    "df = pd.read_csv('MedData.csv')  # or your actual filename\n",
    "\n",
    "# Parameters\n",
    "features_per_fig = 4\n",
    "num_features = len(df.columns)\n",
    "num_figs = (num_features + features_per_fig - 1) // features_per_fig\n",
    "\n",
    "# Generate a color map\n",
    "colors = cm.get_cmap('tab20', num_features)  # 'tab20' provides up to 20 distinct colors\n",
    "\n",
    "# Plot\n",
    "for i in range(num_figs):\n",
    "    fig, axs = plt.subplots(features_per_fig, 1, figsize=(12, 8), sharex=True)\n",
    "    fig.suptitle(f\"Feature Time Series (Part {i+1})\", fontsize=16)\n",
    "\n",
    "    for j in range(features_per_fig):\n",
    "        idx = i * features_per_fig + j\n",
    "        if idx >= num_features:\n",
    "            axs[j].axis('off')\n",
    "            continue\n",
    "        col = df.columns[idx]\n",
    "        axs[j].plot(df[col], label=col, linewidth=1.2, color=colors(idx))\n",
    "        axs[j].set_ylabel(col)\n",
    "        axs[j].legend(loc='upper right')\n",
    "        axs[j].grid(True)\n",
    "\n",
    "    plt.tight_layout(rect=[0, 0, 1, 0.96])\n",
    "    plt.show()"
   ]
  },
  {
   "cell_type": "code",
   "execution_count": 33,
   "id": "10e84e53",
   "metadata": {},
   "outputs": [],
   "source": [
    "# Separate Prediction Variable\n",
    "solar_Xdata = df.copy()\n",
    "solar_ydata = solar_Xdata.pop(\"POWER\")\n",
    "\n",
    "\n",
    "# Reshape Data\n",
    "solar_Xdata = solar_Xdata.values.reshape(-1,solar_Xdata.shape[1])\n",
    "solar_ydata = solar_ydata.values.reshape(-1,1)"
   ]
  },
  {
   "cell_type": "code",
   "execution_count": 43,
   "id": "0e1a8925",
   "metadata": {},
   "outputs": [],
   "source": [
    "# Normalize Data\n",
    "X_scaler = MinMaxScaler()\n",
    "y_scaler = MinMaxScaler()\n",
    "\n",
    "solar_XdataN = X_scaler.fit_transform(solar_Xdata)\n",
    "solar_ydataN = y_scaler.fit_transform(solar_ydata)"
   ]
  },
  {
   "cell_type": "code",
   "execution_count": null,
   "id": "e352c390",
   "metadata": {},
   "outputs": [
    {
     "name": "stdout",
     "output_type": "stream",
     "text": [
      "X shape: (17496, 24, 5)\n",
      "y shape: (0,)\n"
     ]
    }
   ],
   "source": [
    "# Create Sequences\n",
    "X, y = [], []\n",
    "for i in range(24, len(solar_ydataN)):\n",
    "    #This is the selected feautres that are going to be used. \n",
    "     X.append(solar_XdataN[i-24:i,:])\n",
    "     y.append(solar_ydataN[i, 0])  # Add the corresponding target\n",
    "X, y = np.array(X), np.array(y)\n",
    "\n",
    "#this is a quick check for the sequence lengths\n",
    "print(\"X shape:\", X.shape)\n",
    "print(\"y shape:\", y.shape)\n",
    "\n",
    "\n",
    "# Split data into training and testing sets\n",
    "train_size = int(0.8 * len(y))\n",
    "X_train, X_test = X[:train_size], X[train_size:]\n",
    "y_train, y_test = y[:train_size], y[train_size:]\n",
    "\n",
    "# Reshape for LSTM layer\n",
    "##X_train = np.reshape(X_train, (X_train.shape[0], X_train.shape[1],1))\n",
    "##X_test = np.reshape(X_test, (X_test.shape[0], X_test.shape[1],1))\n"
   ]
  },
  {
   "cell_type": "code",
   "execution_count": null,
   "id": "96bffed6",
   "metadata": {},
   "outputs": [],
   "source": [
    "# Build LSTM Model\n",
    "solar_model = Sequential()\n",
    "solar_model.add(LSTM(units = 50, return_sequences = True, input_shape = (X_train.shape[1],1)))\n",
    "solar_model.add(LSTM(units = 50))\n",
    "solar_model.add(Dense(units=1))\n",
    "\n",
    "# Create Model\n",
    "# set Epoch number\n",
    "setEpoch = 50\n",
    "\n",
    "# create the optimizer with the desired learning rate\n",
    "adam_optimizer = Adam(lr = learning_rate)\n",
    "solar_model.compile(optimizer=adam_optimizer, loss='mean_absolute_error')\n",
    "solar_model.fit(X_train, y_train, epochs = setEpoch, batch_size = 32)"
   ]
  },
  {
   "cell_type": "code",
   "execution_count": null,
   "id": "8814c6b4",
   "metadata": {},
   "outputs": [],
   "source": [
    "# Run Prediction\n",
    "y_pred = solar_model.predict(X_test)\n",
    "y_pred_orig = y_scaler.inverse_transform(y_pred)\n",
    "y_test_orig = scaler.inverse_transform(y_test.reshape(-1,1))\n",
    "\n",
    "# Display / Graph\n",
    "# Figure labels\n",
    "fig, axs = plt.subplots()\n",
    "fig.supxlabel(\"Time [3 days]\")\n",
    "fig.supylabel(\"DC Power [MW]\")"
   ]
  },
  {
   "cell_type": "code",
   "execution_count": null,
   "id": "e9579965",
   "metadata": {},
   "outputs": [],
   "source": [
    "# Evaluate Error\n",
    "mae = mean_absolute_error(y_test_orig, y_pred_orig)\n",
    "\n",
    "# Display\n",
    "axs.plot(y_test_orig[0:150])\n",
    "axs.plot(y_pred_orig[0:150])\n",
    "\n",
    "# Title Graph with Epochs and Error\n",
    "title = \"Train From \" + str(solar_Xdata.shape[1]) + \" Inputs\\n\" + \"Epochs: \" + str(setEpoch) + \". Avg MAE Error: \" + str(f\"{mae:.2f}\")\n",
    "fig.suptitle(title)\n",
    "\n",
    "# Save Graph as PNG\n",
    "filename = \"Inputs_\" + str(solar_Xdata.shape[1]) + \"_Epochs_\" + str(setEpoch)\n",
    "filepath = 'Images/'\n",
    "plt.savefig(curr_dir + \"\\\\\" +filename)\n",
    "plt.show()"
   ]
  }
 ],
 "metadata": {
  "kernelspec": {
   "display_name": "Python 3",
   "language": "python",
   "name": "python3"
  },
  "language_info": {
   "codemirror_mode": {
    "name": "ipython",
    "version": 3
   },
   "file_extension": ".py",
   "mimetype": "text/x-python",
   "name": "python",
   "nbconvert_exporter": "python",
   "pygments_lexer": "ipython3",
   "version": "3.8.10"
  }
 },
 "nbformat": 4,
 "nbformat_minor": 5
}
